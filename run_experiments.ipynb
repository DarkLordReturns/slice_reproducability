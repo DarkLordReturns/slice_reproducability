{
 "cells": [
  {
   "cell_type": "markdown",
   "id": "53374c21-cbe4-4f87-badc-b68f9cdbf4cd",
   "metadata": {},
   "source": [
    "# Running Models"
   ]
  },
  {
   "cell_type": "markdown",
   "id": "6c2d1364-5f5d-4510-842f-6ebc2d8b8fb2",
   "metadata": {},
   "source": [
    "## LIME"
   ]
  },
  {
   "cell_type": "markdown",
   "id": "527abfb6-e0c5-47f3-9f42-454abd3255c6",
   "metadata": {},
   "source": [
    "### Inceptionv3 with Oxpets-IIIT pets dataset"
   ]
  },
  {
   "cell_type": "code",
   "execution_count": null,
   "id": "b623d957-ca30-420f-9ecb-3d5a959a66ec",
   "metadata": {},
   "outputs": [],
   "source": [
    "!python run_explainer.py --pretrained_model inceptionv3 --explain_model lime --dataset oxpets --metrics yes --num_runs 2 --num_images_from_dataset 2"
   ]
  },
  {
   "cell_type": "markdown",
   "id": "a650532b-6e8d-48e5-b5e7-a66e83881add",
   "metadata": {},
   "source": [
    "### Inceptionv3 with Pascal VOC dataset"
   ]
  },
  {
   "cell_type": "code",
   "execution_count": null,
   "id": "4b3b401d-8695-471e-ad79-492391fc46a7",
   "metadata": {},
   "outputs": [],
   "source": [
    "!python run_explainer.py --pretrained_model inceptionv3 --explain_model lime --dataset pvoc --metrics yes --num_runs 2 --num_images_from_dataset 2"
   ]
  },
  {
   "cell_type": "markdown",
   "id": "2d1c8f3c-5ff8-4056-a627-bebb54947467",
   "metadata": {},
   "source": [
    "### Resnet50 with Oxpets-IIIT dataset"
   ]
  },
  {
   "cell_type": "code",
   "execution_count": null,
   "id": "c7d16af6-ffa2-4584-bb84-75f2fe61d7ca",
   "metadata": {},
   "outputs": [],
   "source": [
    "!python run_explainer.py --pretrained_model resnet50 --explain_model lime --dataset oxpets --metrics yes --num_runs 2 --num_images_from_dataset 2"
   ]
  },
  {
   "cell_type": "markdown",
   "id": "1a220698-6dd0-4d2d-b370-8749089f06ad",
   "metadata": {},
   "source": [
    "### Resnet50 with Pascal VOC dataset"
   ]
  },
  {
   "cell_type": "code",
   "execution_count": null,
   "id": "b1c866a2-6d85-40f0-b745-0e33e946ccbd",
   "metadata": {},
   "outputs": [],
   "source": [
    "!python run_explainer.py --pretrained_model resnet50 --explain_model lime --dataset pvoc --metrics yes --num_runs 2 --num_images_from_dataset 2"
   ]
  },
  {
   "cell_type": "code",
   "execution_count": null,
   "id": "74914801-5e21-4e20-bfee-34acd3b58ff2",
   "metadata": {},
   "outputs": [],
   "source": []
  },
  {
   "cell_type": "markdown",
   "id": "fda74abb-c44f-45d7-9bf0-2ba8ee371ddf",
   "metadata": {},
   "source": [
    "## SLICE"
   ]
  },
  {
   "cell_type": "markdown",
   "id": "44cdfd4e-9819-4403-bc14-464bcb61d900",
   "metadata": {},
   "source": [
    "### Inceptionv3 with Oxpets-IIIT pets dataset"
   ]
  },
  {
   "cell_type": "code",
   "execution_count": null,
   "id": "7e4d6bb4-9fff-4202-bd30-8af9398fd7f4",
   "metadata": {},
   "outputs": [],
   "source": [
    "!python run_explainer.py --pretrained_model inceptionv3 --explain_model slice --dataset oxpets --metrics yes --num_runs 2 --num_images_from_dataset 2"
   ]
  },
  {
   "cell_type": "markdown",
   "id": "455e1443-80e6-456d-8e5a-2b3af440b753",
   "metadata": {},
   "source": [
    "### Inceptionv3 with Pascal VOC dataset"
   ]
  },
  {
   "cell_type": "code",
   "execution_count": null,
   "id": "7a1143de-7492-4403-86ef-167ffa7c2fcb",
   "metadata": {},
   "outputs": [],
   "source": [
    "!python run_explainer.py --pretrained_model inceptionv3 --explain_model slice --dataset pvoc --metrics yes --num_runs 2 --num_images_from_dataset 2"
   ]
  },
  {
   "cell_type": "markdown",
   "id": "bafb383e-b7ab-494d-b29e-f9070247dfa4",
   "metadata": {},
   "source": [
    "### Resnet50 with Oxpets-IIIT dataset"
   ]
  },
  {
   "cell_type": "code",
   "execution_count": null,
   "id": "84b58536-0b00-48e4-8c42-8ce8e18ef172",
   "metadata": {},
   "outputs": [],
   "source": [
    "!python run_explainer.py --pretrained_model resnet50 --explain_model slice --dataset oxpets --metrics yes --num_runs 2 --num_images_from_dataset 2"
   ]
  },
  {
   "cell_type": "markdown",
   "id": "00b7b10b-15a8-4135-aee0-d08bdcf37bc2",
   "metadata": {},
   "source": [
    "### Resnet50 with Pascal VOC dataset"
   ]
  },
  {
   "cell_type": "code",
   "execution_count": null,
   "id": "d4c5e2ea-db11-46ee-8ded-cd16004da623",
   "metadata": {},
   "outputs": [],
   "source": [
    "!python run_explainer.py --pretrained_model resnet50 --explain_model slice --dataset pvoc --metrics yes --num_runs 2 --num_images_from_dataset 2"
   ]
  },
  {
   "cell_type": "code",
   "execution_count": null,
   "id": "e1b8305c-8ce9-4774-8ed3-e37fa21b88b7",
   "metadata": {},
   "outputs": [],
   "source": []
  },
  {
   "cell_type": "markdown",
   "id": "fedf23e8-490e-4a0c-b8d0-bb16ea849b77",
   "metadata": {},
   "source": [
    "## GRIDLIME"
   ]
  },
  {
   "cell_type": "markdown",
   "id": "dae50248-b7f2-43cf-a93c-1098030f2e37",
   "metadata": {},
   "source": [
    "### Inceptionv3 with Oxpets-IIIT pets dataset"
   ]
  },
  {
   "cell_type": "code",
   "execution_count": null,
   "id": "1da6e445-8871-4606-861f-ca21c53a7dfe",
   "metadata": {},
   "outputs": [],
   "source": [
    "!python run_explainer.py --pretrained_model inceptionv3 --explain_model GridLime --dataset oxpets --metrics yes --num_runs 2 --num_images_from_dataset 2"
   ]
  },
  {
   "cell_type": "markdown",
   "id": "03642f10-1b6b-47de-b7f6-2349448dc903",
   "metadata": {},
   "source": [
    "### Inceptionv3 with Pascal VOC dataset"
   ]
  },
  {
   "cell_type": "code",
   "execution_count": null,
   "id": "846dc245-2b3f-4072-bb55-3bd834864ca2",
   "metadata": {},
   "outputs": [],
   "source": [
    "!python run_explainer.py --pretrained_model inceptionv3 --explain_model GridLime --dataset pvoc --metrics yes --num_runs 2 --num_images_from_dataset 2"
   ]
  },
  {
   "cell_type": "markdown",
   "id": "c951534d-7f45-47e6-9748-e43fc6723621",
   "metadata": {},
   "source": [
    "### Resnet50 with Oxpets-IIIT dataset"
   ]
  },
  {
   "cell_type": "code",
   "execution_count": null,
   "id": "1336a7ea-439f-4d22-a74b-7aa71a35c02c",
   "metadata": {},
   "outputs": [],
   "source": [
    "!python run_explainer.py --pretrained_model resnet50 --explain_model GridLime --dataset oxpets --metrics yes --num_runs 2 --num_images_from_dataset 2"
   ]
  },
  {
   "cell_type": "markdown",
   "id": "9ebb7408-7a78-4a63-b439-9c4ea1c2289d",
   "metadata": {},
   "source": [
    "### Resnet50 with Pascal VOC dataset"
   ]
  },
  {
   "cell_type": "code",
   "execution_count": null,
   "id": "d0463604-6315-4922-9093-b1bdba7dc3e7",
   "metadata": {},
   "outputs": [],
   "source": [
    "!python run_explainer.py --pretrained_model resnet50 --explain_model GridLime --dataset pvoc --metrics yes --num_runs 2 --num_images_from_dataset 2"
   ]
  },
  {
   "cell_type": "code",
   "execution_count": null,
   "id": "272c4c39-60ab-4b82-bcc8-56ac61cc3927",
   "metadata": {},
   "outputs": [],
   "source": []
  },
  {
   "cell_type": "markdown",
   "id": "34eaa627-887f-4561-a4c2-65438cda498b",
   "metadata": {},
   "source": [
    "# Generating Output Plots"
   ]
  },
  {
   "cell_type": "markdown",
   "id": "52df24dc-37d2-45ba-b1c0-5b5c76f63a8f",
   "metadata": {},
   "source": [
    "## CCM Plots"
   ]
  },
  {
   "cell_type": "code",
   "execution_count": null,
   "id": "9937e6bc-d1ef-48e1-9a80-f051e3d04872",
   "metadata": {},
   "outputs": [],
   "source": [
    "!python generate_results.py --generate_ccm_plots_flag yes --generate_gto_plots_flag no --generate_aopc_plots_flag no"
   ]
  },
  {
   "cell_type": "markdown",
   "id": "1935f24d-1cfa-49c5-b9c3-95bc16a56dbf",
   "metadata": {},
   "source": [
    "## GTO Plots"
   ]
  },
  {
   "cell_type": "code",
   "execution_count": null,
   "id": "c30e464b-ec88-4622-a505-2420d75452e5",
   "metadata": {},
   "outputs": [],
   "source": [
    "!python generate_results.py --generate_ccm_plots_flag no --generate_gto_plots_flag yes --generate_aopc_plots_flag no"
   ]
  },
  {
   "cell_type": "markdown",
   "id": "168e7112-671a-4c7b-b5c3-bb669ecf5fe3",
   "metadata": {},
   "source": [
    "## AOPC Plots"
   ]
  },
  {
   "cell_type": "code",
   "execution_count": null,
   "id": "c79384ca-3006-479d-a9a5-a541c0b94e09",
   "metadata": {},
   "outputs": [],
   "source": [
    "!python generate_results.py --generate_ccm_plots_flag no --generate_gto_plots_flag no --generate_aopc_plots_flag yes --aopc_sigma_constant no"
   ]
  },
  {
   "cell_type": "markdown",
   "id": "a7cf4371-3de7-41f7-bd6f-a50e3df0239c",
   "metadata": {},
   "source": [
    "# End"
   ]
  },
  {
   "cell_type": "code",
   "execution_count": null,
   "id": "655bb6c9-9b38-4682-bb75-72b5003eea17",
   "metadata": {},
   "outputs": [],
   "source": []
  }
 ],
 "metadata": {
  "kernelspec": {
   "display_name": "Python 3 (ipykernel)",
   "language": "python",
   "name": "python3"
  },
  "language_info": {
   "codemirror_mode": {
    "name": "ipython",
    "version": 3
   },
   "file_extension": ".py",
   "mimetype": "text/x-python",
   "name": "python",
   "nbconvert_exporter": "python",
   "pygments_lexer": "ipython3",
   "version": "3.12.7"
  }
 },
 "nbformat": 4,
 "nbformat_minor": 5
}
